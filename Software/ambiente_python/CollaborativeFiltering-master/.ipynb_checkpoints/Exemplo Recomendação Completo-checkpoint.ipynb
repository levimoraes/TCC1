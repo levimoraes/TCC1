{
 "cells": [
  {
   "cell_type": "code",
   "execution_count": 35,
   "metadata": {},
   "outputs": [],
   "source": [
    "from recommendation_data import dataset\n",
    "from math import sqrt"
   ]
  },
  {
   "cell_type": "code",
   "execution_count": 36,
   "metadata": {
    "collapsed": true
   },
   "outputs": [],
   "source": [
    "def similarity_score(person1,person2):\n",
    "    \n",
    "    # Returns ratio Euclidean distance score of person1 and person2 \n",
    "\n",
    "\tboth_viewed = {}\t\t# To get both rated items by person1 and person2\n",
    "\n",
    "\tfor item in dataset[person1]:\n",
    "\t\tif item in dataset[person2]:\n",
    "\t\t\tboth_viewed[item] = 1\n",
    "\n",
    "\t\t# Conditions to check they both have an common rating items\t\n",
    "\t\tif len(both_viewed) == 0:\n",
    "\t\t\treturn 0\n",
    "\n",
    "\t\t# Finding Euclidean distance \n",
    "\t\tsum_of_eclidean_distance = []\t\n",
    "\n",
    "\t\tfor item in dataset[person1]:\n",
    "\t\t\tif item in dataset[person2]:\n",
    "\t\t\t\tsum_of_eclidean_distance.append(pow(dataset[person1][item] - dataset[person2][item],2))\n",
    "\t\tsum_of_eclidean_distance = sum(sum_of_eclidean_distance)\n",
    "\n",
    "\t\treturn 1/(1+sqrt(sum_of_eclidean_distance))\n"
   ]
  },
  {
   "cell_type": "code",
   "execution_count": 37,
   "metadata": {
    "collapsed": true
   },
   "outputs": [],
   "source": [
    "def pearson_correlation(person1,person2):\n",
    "\n",
    "\t# To get both rated items\n",
    "\tboth_rated = {}\n",
    "\tfor item in dataset[person1]:\n",
    "\t\tif item in dataset[person2]:\n",
    "\t\t\tboth_rated[item] = 1\n",
    "\n",
    "\tnumber_of_ratings = len(both_rated)\t\t\n",
    "\t\n",
    "\t# Checking for number of ratings in common\n",
    "\tif number_of_ratings == 0:\n",
    "\t\treturn 0\n",
    "\n",
    "\t# Add up all the preferences of each user\n",
    "\tperson1_preferences_sum = sum([dataset[person1][item] for item in both_rated])\n",
    "\tperson2_preferences_sum = sum([dataset[person2][item] for item in both_rated])\n",
    "\n",
    "\t# Sum up the squares of preferences of each user\n",
    "\tperson1_square_preferences_sum = sum([pow(dataset[person1][item],2) for item in both_rated])\n",
    "\tperson2_square_preferences_sum = sum([pow(dataset[person2][item],2) for item in both_rated])\n",
    "\n",
    "\t# Sum up the product value of both preferences for each item\n",
    "\tproduct_sum_of_both_users = sum([dataset[person1][item] * dataset[person2][item] for item in both_rated])\n",
    "\n",
    "\t# Calculate the pearson score\n",
    "\tnumerator_value = product_sum_of_both_users - (person1_preferences_sum*person2_preferences_sum/number_of_ratings)\n",
    "\tdenominator_value = sqrt((person1_square_preferences_sum - pow(person1_preferences_sum,2)/number_of_ratings) * (person2_square_preferences_sum -pow(person2_preferences_sum,2)/number_of_ratings))\n",
    "\tif denominator_value == 0:\n",
    "\t\treturn 0\n",
    "\telse:\n",
    "\t\tr = numerator_value/denominator_value\n",
    "\t\treturn r "
   ]
  },
  {
   "cell_type": "code",
   "execution_count": 38,
   "metadata": {
    "collapsed": true
   },
   "outputs": [],
   "source": [
    "def most_similar_users(person,number_of_users):\n",
    "\t# returns the number_of_users (similar persons) for a given specific person.\n",
    "\tscores = [(pearson_correlation(person,other_person),other_person) for other_person in dataset if  other_person != person ]\n",
    "\t\n",
    "\t# Sort the similar persons so that highest scores person will appear at the first\n",
    "\tscores.sort()\n",
    "\tscores.reverse()\n",
    "\treturn scores[0:number_of_users]"
   ]
  },
  {
   "cell_type": "code",
   "execution_count": 39,
   "metadata": {
    "collapsed": true
   },
   "outputs": [],
   "source": [
    "def user_reommendations(person):\n",
    "\n",
    "\t# Gets recommendations for a person by using a weighted average of every other user's rankings\n",
    "\ttotals = {}\n",
    "\tsimSums = {}\n",
    "\trankings_list =[]\n",
    "\tfor other in dataset:\n",
    "\t\t# don't compare me to myself\n",
    "\t\tif other == person:\n",
    "\t\t\tcontinue\n",
    "\t\tsim = pearson_correlation(person,other)\n",
    "\t\t#print \">>>>>>>\",sim\n",
    "\n",
    "\t\t# ignore scores of zero or lower\n",
    "\t\tif sim <=0: \n",
    "\t\t\tcontinue\n",
    "\t\tfor item in dataset[other]:\n",
    "\n",
    "\t\t\t# only score movies i haven't seen yet\n",
    "\t\t\tif item not in dataset[person] or dataset[person][item] == 0:\n",
    "\n",
    "\t\t\t# Similrity * score\n",
    "\t\t\t\ttotals.setdefault(item,0)\n",
    "\t\t\t\ttotals[item] += dataset[other][item]* sim\n",
    "\t\t\t\t# sum of similarities\n",
    "\t\t\t\tsimSums.setdefault(item,0)\n",
    "\t\t\t\tsimSums[item]+= sim\n",
    "\n",
    "\t\t# Create the normalized list\n",
    "\n",
    "\trankings = [(total/simSums[item],item) for item,total in totals.items()]\n",
    "\trankings.sort()\n",
    "\trankings.reverse()\n",
    "\t# returns the recommended items\n",
    "\trecommendataions_list = [recommend_item for score,recommend_item in rankings]\n",
    "\treturn recommendataions_list"
   ]
  },
  {
   "cell_type": "code",
   "execution_count": 45,
   "metadata": {},
   "outputs": [
    {
     "name": "stdout",
     "output_type": "stream",
     "text": [
      "['INFO']\n"
     ]
    }
   ],
   "source": [
    "print user_reommendations('Gestor 1')"
   ]
  },
  {
   "cell_type": "code",
   "execution_count": 32,
   "metadata": {},
   "outputs": [
    {
     "ename": "KeyError",
     "evalue": "'Michael Phillips'",
     "output_type": "error",
     "traceback": [
      "\u001b[0;31m---------------------------------------------------------------------------\u001b[0m",
      "\u001b[0;31mKeyError\u001b[0m                                  Traceback (most recent call last)",
      "\u001b[0;32m<ipython-input-32-3a9944f7d6c9>\u001b[0m in \u001b[0;36m<module>\u001b[0;34m()\u001b[0m\n\u001b[0;32m----> 1\u001b[0;31m \u001b[0;32mprint\u001b[0m \u001b[0mpearson_correlation\u001b[0m\u001b[0;34m(\u001b[0m\u001b[0;34m'Michael Phillips'\u001b[0m\u001b[0;34m,\u001b[0m \u001b[0;34m'Gene Seymour'\u001b[0m\u001b[0;34m)\u001b[0m\u001b[0;34m\u001b[0m\u001b[0m\n\u001b[0m",
      "\u001b[0;32m<ipython-input-28-674a207a5577>\u001b[0m in \u001b[0;36mpearson_correlation\u001b[0;34m(person1, person2)\u001b[0m\n\u001b[1;32m      3\u001b[0m         \u001b[0;31m# To get both rated items\u001b[0m\u001b[0;34m\u001b[0m\u001b[0;34m\u001b[0m\u001b[0m\n\u001b[1;32m      4\u001b[0m         \u001b[0mboth_rated\u001b[0m \u001b[0;34m=\u001b[0m \u001b[0;34m{\u001b[0m\u001b[0;34m}\u001b[0m\u001b[0;34m\u001b[0m\u001b[0m\n\u001b[0;32m----> 5\u001b[0;31m         \u001b[0;32mfor\u001b[0m \u001b[0mitem\u001b[0m \u001b[0;32min\u001b[0m \u001b[0mdataset\u001b[0m\u001b[0;34m[\u001b[0m\u001b[0mperson1\u001b[0m\u001b[0;34m]\u001b[0m\u001b[0;34m:\u001b[0m\u001b[0;34m\u001b[0m\u001b[0m\n\u001b[0m\u001b[1;32m      6\u001b[0m                 \u001b[0;32mif\u001b[0m \u001b[0mitem\u001b[0m \u001b[0;32min\u001b[0m \u001b[0mdataset\u001b[0m\u001b[0;34m[\u001b[0m\u001b[0mperson2\u001b[0m\u001b[0;34m]\u001b[0m\u001b[0;34m:\u001b[0m\u001b[0;34m\u001b[0m\u001b[0m\n\u001b[1;32m      7\u001b[0m                         \u001b[0mboth_rated\u001b[0m\u001b[0;34m[\u001b[0m\u001b[0mitem\u001b[0m\u001b[0;34m]\u001b[0m \u001b[0;34m=\u001b[0m \u001b[0;36m1\u001b[0m\u001b[0;34m\u001b[0m\u001b[0m\n",
      "\u001b[0;31mKeyError\u001b[0m: 'Michael Phillips'"
     ]
    }
   ],
   "source": [
    "print pearson_correlation('Michael Phillips', 'Gene Seymour')"
   ]
  },
  {
   "cell_type": "code",
   "execution_count": null,
   "metadata": {
    "collapsed": true
   },
   "outputs": [],
   "source": [
    "print similarity_score('Gestor 3', 'Gestor 2')"
   ]
  },
  {
   "cell_type": "code",
   "execution_count": 51,
   "metadata": {},
   "outputs": [
    {
     "name": "stdout",
     "output_type": "stream",
     "text": [
      "[(0.05241424183609749, 'Gestor 4')]\n"
     ]
    }
   ],
   "source": [
    "print most_similar_users('Gestor 2', 1)"
   ]
  },
  {
   "cell_type": "code",
   "execution_count": null,
   "metadata": {
    "collapsed": true
   },
   "outputs": [],
   "source": []
  },
  {
   "cell_type": "code",
   "execution_count": null,
   "metadata": {
    "collapsed": true
   },
   "outputs": [],
   "source": []
  }
 ],
 "metadata": {
  "kernelspec": {
   "display_name": "Python 2",
   "language": "python",
   "name": "python2"
  },
  "language_info": {
   "codemirror_mode": {
    "name": "ipython",
    "version": 2
   },
   "file_extension": ".py",
   "mimetype": "text/x-python",
   "name": "python",
   "nbconvert_exporter": "python",
   "pygments_lexer": "ipython2",
   "version": "2.7.13"
  }
 },
 "nbformat": 4,
 "nbformat_minor": 2
}
