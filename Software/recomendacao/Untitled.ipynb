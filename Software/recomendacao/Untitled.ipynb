{
 "cells": [
  {
   "cell_type": "code",
   "execution_count": 5,
   "metadata": {},
   "outputs": [
    {
     "ename": "ImportError",
     "evalue": "No module named recommendation_data",
     "output_type": "error",
     "traceback": [
      "\u001b[0;31m---------------------------------------------------------------------------\u001b[0m",
      "\u001b[0;31mImportError\u001b[0m                               Traceback (most recent call last)",
      "\u001b[0;32m<ipython-input-5-5e35ccce5f2c>\u001b[0m in \u001b[0;36m<module>\u001b[0;34m()\u001b[0m\n\u001b[0;32m----> 1\u001b[0;31m \u001b[0;32mfrom\u001b[0m \u001b[0mrecommendation_data\u001b[0m \u001b[0;32mimport\u001b[0m \u001b[0mdataset\u001b[0m\u001b[0;34m\u001b[0m\u001b[0m\n\u001b[0m\u001b[1;32m      2\u001b[0m \u001b[0;32mfrom\u001b[0m \u001b[0mmath\u001b[0m \u001b[0;32mimport\u001b[0m \u001b[0msqrt\u001b[0m\u001b[0;34m\u001b[0m\u001b[0m\n",
      "\u001b[0;31mImportError\u001b[0m: No module named recommendation_data"
     ]
    }
   ],
   "source": [
    "from recommendation_data import dataset\n",
    "from math import sqrt"
   ]
  },
  {
   "cell_type": "code",
   "execution_count": null,
   "metadata": {
    "collapsed": true
   },
   "outputs": [],
   "source": [
    "def similarity_score(person1,person2):\n",
    "    \n",
    "    # Returns ratio Euclidean distance score of person1 and person2 \n",
    "\n",
    "\tboth_viewed = {}\t\t# To get both rated items by person1 and person2\n",
    "\n",
    "\tfor item in dataset[person1]:\n",
    "\t\tif item in dataset[person2]:\n",
    "\t\t\tboth_viewed[item] = 1\n",
    "\n",
    "\t\t# Conditions to check they both have an common rating items\t\n",
    "\t\tif len(both_viewed) == 0:\n",
    "\t\t\treturn 0\n",
    "\n",
    "\t\t# Finding Euclidean distance \n",
    "\t\tsum_of_eclidean_distance = []\t\n",
    "\n",
    "\t\tfor item in dataset[person1]:\n",
    "\t\t\tif item in dataset[person2]:\n",
    "\t\t\t\tsum_of_eclidean_distance.append(pow(dataset[person1][item] - dataset[person2][item],2))\n",
    "\t\tsum_of_eclidean_distance = sum(sum_of_eclidean_distance)\n",
    "\n",
    "\t\treturn 1/(1+sqrt(sum_of_eclidean_distance))\n"
   ]
  },
  {
   "cell_type": "code",
   "execution_count": null,
   "metadata": {
    "collapsed": true
   },
   "outputs": [],
   "source": []
  }
 ],
 "metadata": {
  "kernelspec": {
   "display_name": "Python 2",
   "language": "python",
   "name": "python2"
  },
  "language_info": {
   "codemirror_mode": {
    "name": "ipython",
    "version": 2
   },
   "file_extension": ".py",
   "mimetype": "text/x-python",
   "name": "python",
   "nbconvert_exporter": "python",
   "pygments_lexer": "ipython2",
   "version": "2.7.13"
  }
 },
 "nbformat": 4,
 "nbformat_minor": 2
}
